{
 "cells": [
  {
   "cell_type": "code",
   "execution_count": 72,
   "id": "30518b5b-6b57-4b2d-8e27-91f4c8771a22",
   "metadata": {},
   "outputs": [],
   "source": [
    "import json\n",
    "import os\n",
    "from pathlib import Path\n",
    "from html.parser import HTMLParser\n",
    "\n",
    "import numpy as np\n",
    "import pandas as pd\n",
    "import matplotlib.pyplot as plt\n",
    "from scipy.sparse import csr_matrix, hstack\n",
    "from sklearn.feature_extraction.text import TfidfVectorizer\n",
    "from sklearn.linear_model import Ridge\n",
    "from sklearn.metrics import mean_absolute_error\n",
    "from bs4 import BeautifulSoup\n",
    "from tqdm.notebook import tqdm"
   ]
  },
  {
   "cell_type": "markdown",
   "id": "a30020f5-a0c0-4f8c-af07-3c7a9fbe7984",
   "metadata": {},
   "source": [
    "## Data Preprocessing"
   ]
  },
  {
   "cell_type": "code",
   "execution_count": 6,
   "id": "82af1cbf-ea86-40b4-899b-4069d979c035",
   "metadata": {},
   "outputs": [],
   "source": [
    "class MLStripper(HTMLParser):\n",
    "    def __init__(self):\n",
    "        self.reset()\n",
    "        self.strict = False\n",
    "        self.convert_charrefs = True\n",
    "        self.fed = []\n",
    "\n",
    "    def handle_data(self, d):\n",
    "        self.fed.append(d)\n",
    "\n",
    "    def get_data(self):\n",
    "        return \"\".join(self.fed)\n",
    "\n",
    "\n",
    "def strip_tags(html):\n",
    "    s = MLStripper()\n",
    "    s.feed(html)\n",
    "    return s.get_data()\n",
    "\n",
    "def read_json_line(line=None):\n",
    "    result = None\n",
    "    try:\n",
    "        result = json.loads(line)\n",
    "    except Exception as e:\n",
    "        # Find the offending character index:\n",
    "        idx_to_replace = int(str(e).split(\" \")[-1].replace(\")\", \"\"))\n",
    "        # Remove the offending character:\n",
    "        new_line = list(line)\n",
    "        new_line[idx_to_replace] = \" \"\n",
    "        new_line = \"\".join(new_line)\n",
    "        return read_json_line(line=new_line)\n",
    "    return result\n",
    "\n",
    "def extract_tags(content):\n",
    "    tags_str = []\n",
    "    soup = BeautifulSoup(content, 'lxml')\n",
    "    try:\n",
    "        tag_block = soup.find('ul', class_='tags')\n",
    "        tags = tag_block.find_all('a')\n",
    "        for tag in tags:\n",
    "            tags_str.append(tag.text.translate({ord(' '):None, ord('-'):None}))\n",
    "        tags = ' '.join(tags_str)\n",
    "    except Exception:\n",
    "        tags = ''\n",
    "    return tags\n",
    "\n",
    "from tqdm import tqdm\n",
    "\n",
    "tqdm.pandas()\n",
    "\n",
    "def extract_features(path_to_data):\n",
    "    content_list = []\n",
    "    published_list = []\n",
    "    title_list = []\n",
    "    author_list = []\n",
    "    domain_list = []\n",
    "    url_list = []\n",
    "    tags_list = []\n",
    "\n",
    "    with open(path_to_data, encoding='utf-8') as f:\n",
    "        for line in tqdm(f, desc=\"Processing Lines\", leave=True):\n",
    "            data = read_json_line(line)\n",
    "\n",
    "            content = data['content'].replace('\\n', ' ').replace('\\r', ' ')\n",
    "            content_stripped = strip_tags(content)\n",
    "            content_list.append(content_stripped)\n",
    "\n",
    "            published = data['published']['$date']\n",
    "            published_list.append(published)\n",
    "\n",
    "            title = data['meta_tags']['title'].split('\\u2013')[0].strip()\n",
    "            title_list.append(title)\n",
    "\n",
    "            author = data['meta_tags']['title'].strip()\n",
    "            author_list.append(author)\n",
    "\n",
    "            domain = data['domain']\n",
    "            domain_list.append(domain)\n",
    "\n",
    "            url = data['url']\n",
    "            url_list.append(url)\n",
    "\n",
    "            tags = extract_tags(content)\n",
    "            tags_list.append(tags)\n",
    "\n",
    "    return content_list, published_list, title_list, author_list, domain_list, url_list, tags_list\n",
    "    "
   ]
  },
  {
   "cell_type": "markdown",
   "id": "f5cf5cea-8ee5-4a96-be54-df24d4907b4e",
   "metadata": {},
   "source": [
    "### Paths"
   ]
  },
  {
   "cell_type": "code",
   "execution_count": 82,
   "id": "e4751907-d46f-4eb3-bd33-9346c2094f79",
   "metadata": {},
   "outputs": [],
   "source": [
    "PATH_TO_TRAIN = Path(\"../../_static/data/assignment6/train.json\")\n",
    "PATH_TO_TEST = Path(\"../../_static/data/assignment6/test.json\")\n",
    "PATH_TO_TRAIN_TARGET = Path(\"../../_static/data/assignment6/train_log1p_recommends.csv\")\n",
    "PATH_TO_TEST_TARGET = Path(\"../../_static/data/assignment6/test_log1p_recommends.csv\")\n",
    "PATH_TO_SAMPLE_SUBMISSION = Path(\"../../_static/data/assignment6/sample_submission.csv\")"
   ]
  },
  {
   "cell_type": "markdown",
   "id": "6fcfa694-c03a-4c30-aa18-9e94c0bb6270",
   "metadata": {},
   "source": [
    "### Reading Data"
   ]
  },
  {
   "cell_type": "code",
   "execution_count": 12,
   "id": "b7e404e3-8aa5-44cc-8cf3-29cb70019d41",
   "metadata": {},
   "outputs": [
    {
     "name": "stderr",
     "output_type": "stream",
     "text": [
      "Processing Lines: 62313it [10:01, 103.54it/s]\n"
     ]
    },
    {
     "data": {
      "text/html": [
       "<div>\n",
       "<style scoped>\n",
       "    .dataframe tbody tr th:only-of-type {\n",
       "        vertical-align: middle;\n",
       "    }\n",
       "\n",
       "    .dataframe tbody tr th {\n",
       "        vertical-align: top;\n",
       "    }\n",
       "\n",
       "    .dataframe thead th {\n",
       "        text-align: right;\n",
       "    }\n",
       "</style>\n",
       "<table border=\"1\" class=\"dataframe\">\n",
       "  <thead>\n",
       "    <tr style=\"text-align: right;\">\n",
       "      <th></th>\n",
       "      <th>content</th>\n",
       "      <th>published</th>\n",
       "      <th>title</th>\n",
       "      <th>author</th>\n",
       "      <th>domain</th>\n",
       "      <th>url</th>\n",
       "      <th>tags</th>\n",
       "    </tr>\n",
       "  </thead>\n",
       "  <tbody>\n",
       "    <tr>\n",
       "      <th>0</th>\n",
       "      <td>MediumEveryone’s stories and ideasAug 13, 2012...</td>\n",
       "      <td>2012-08-13 22:54:53.510</td>\n",
       "      <td>Medium Terms of Service</td>\n",
       "      <td>Medium Terms of Service – Medium Policy – Medium</td>\n",
       "      <td>medium.com</td>\n",
       "      <td>https://medium.com/policy/medium-terms-of-serv...</td>\n",
       "      <td>TermsAndConditions Terms Medium</td>\n",
       "    </tr>\n",
       "    <tr>\n",
       "      <th>1</th>\n",
       "      <td>MediumEveryone’s stories and ideasAug 2, 2015 ...</td>\n",
       "      <td>2015-08-03 07:44:50.331</td>\n",
       "      <td>Amendment to Medium Terms of Service Applicabl...</td>\n",
       "      <td>Amendment to Medium Terms of Service Applicabl...</td>\n",
       "      <td>medium.com</td>\n",
       "      <td>https://medium.com/policy/amendment-to-medium-...</td>\n",
       "      <td></td>\n",
       "    </tr>\n",
       "    <tr>\n",
       "      <th>2</th>\n",
       "      <td>Yun-Chen Chien（簡韻真）Nobody in @g0v.tw, PM in se...</td>\n",
       "      <td>2017-02-05 13:08:17.410</td>\n",
       "      <td>走入山與海之間：閩東大刀會和兩岸走私</td>\n",
       "      <td>走入山與海之間：閩東大刀會和兩岸走私 – Yun-Chen Chien（簡韻真） – Medium</td>\n",
       "      <td>medium.com</td>\n",
       "      <td>https://medium.com/@aelcenganda/%E9%96%A9%E6%9...</td>\n",
       "      <td>田野 歷史 閩東 大刀會 走私</td>\n",
       "    </tr>\n",
       "    <tr>\n",
       "      <th>3</th>\n",
       "      <td>Vaibhav KhulbeAndroid App Developer | I write ...</td>\n",
       "      <td>2017-05-06 08:16:30.776</td>\n",
       "      <td>How fast can a camera get?</td>\n",
       "      <td>How fast can a camera get? – What comes to min...</td>\n",
       "      <td>medium.com</td>\n",
       "      <td>https://medium.com/what-comes-to-mind/how-fast...</td>\n",
       "      <td>Photography Cameras Tech MIT Science</td>\n",
       "    </tr>\n",
       "    <tr>\n",
       "      <th>4</th>\n",
       "      <td>Vaibhav KhulbeAndroid App Developer | I write ...</td>\n",
       "      <td>2017-06-04 14:46:25.772</td>\n",
       "      <td>A game for the lonely fox</td>\n",
       "      <td>A game for the lonely fox – What comes to mind...</td>\n",
       "      <td>medium.com</td>\n",
       "      <td>https://medium.com/what-comes-to-mind/a-game-f...</td>\n",
       "      <td>Gaming Games AndroidGames GooglePlayStore Alone</td>\n",
       "    </tr>\n",
       "  </tbody>\n",
       "</table>\n",
       "</div>"
      ],
      "text/plain": [
       "                                             content               published  \\\n",
       "0  MediumEveryone’s stories and ideasAug 13, 2012... 2012-08-13 22:54:53.510   \n",
       "1  MediumEveryone’s stories and ideasAug 2, 2015 ... 2015-08-03 07:44:50.331   \n",
       "2  Yun-Chen Chien（簡韻真）Nobody in @g0v.tw, PM in se... 2017-02-05 13:08:17.410   \n",
       "3  Vaibhav KhulbeAndroid App Developer | I write ... 2017-05-06 08:16:30.776   \n",
       "4  Vaibhav KhulbeAndroid App Developer | I write ... 2017-06-04 14:46:25.772   \n",
       "\n",
       "                                               title  \\\n",
       "0                            Medium Terms of Service   \n",
       "1  Amendment to Medium Terms of Service Applicabl...   \n",
       "2                                 走入山與海之間：閩東大刀會和兩岸走私   \n",
       "3                         How fast can a camera get?   \n",
       "4                          A game for the lonely fox   \n",
       "\n",
       "                                              author      domain  \\\n",
       "0   Medium Terms of Service – Medium Policy – Medium  medium.com   \n",
       "1  Amendment to Medium Terms of Service Applicabl...  medium.com   \n",
       "2  走入山與海之間：閩東大刀會和兩岸走私 – Yun-Chen Chien（簡韻真） – Medium  medium.com   \n",
       "3  How fast can a camera get? – What comes to min...  medium.com   \n",
       "4  A game for the lonely fox – What comes to mind...  medium.com   \n",
       "\n",
       "                                                 url  \\\n",
       "0  https://medium.com/policy/medium-terms-of-serv...   \n",
       "1  https://medium.com/policy/amendment-to-medium-...   \n",
       "2  https://medium.com/@aelcenganda/%E9%96%A9%E6%9...   \n",
       "3  https://medium.com/what-comes-to-mind/how-fast...   \n",
       "4  https://medium.com/what-comes-to-mind/a-game-f...   \n",
       "\n",
       "                                              tags  \n",
       "0                  TermsAndConditions Terms Medium  \n",
       "1                                                   \n",
       "2                                  田野 歷史 閩東 大刀會 走私  \n",
       "3             Photography Cameras Tech MIT Science  \n",
       "4  Gaming Games AndroidGames GooglePlayStore Alone  "
      ]
     },
     "execution_count": 12,
     "metadata": {},
     "output_type": "execute_result"
    }
   ],
   "source": [
    "content_list, published_list, title_list, author_list, domain_list, url_list, tags_list = extract_features(PATH_TO_TRAIN)\n",
    "train = pd.DataFrame()\n",
    "train['content'] = content_list\n",
    "train['published'] = pd.to_datetime(published_list, format='%Y-%m-%dT%H:%M:%S.%fZ')\n",
    "train['title'] = title_list\n",
    "train['author'] = author_list\n",
    "train['domain'] = domain_list\n",
    "train['url'] = url_list\n",
    "train['tags'] = tags_list\n",
    "train.head()"
   ]
  },
  {
   "cell_type": "code",
   "execution_count": 13,
   "id": "f60fa764-499d-4353-94db-36e7f272e3fb",
   "metadata": {},
   "outputs": [
    {
     "name": "stderr",
     "output_type": "stream",
     "text": [
      "Processing Lines: 34645it [05:44, 100.58it/s]\n"
     ]
    },
    {
     "data": {
      "text/html": [
       "<div>\n",
       "<style scoped>\n",
       "    .dataframe tbody tr th:only-of-type {\n",
       "        vertical-align: middle;\n",
       "    }\n",
       "\n",
       "    .dataframe tbody tr th {\n",
       "        vertical-align: top;\n",
       "    }\n",
       "\n",
       "    .dataframe thead th {\n",
       "        text-align: right;\n",
       "    }\n",
       "</style>\n",
       "<table border=\"1\" class=\"dataframe\">\n",
       "  <thead>\n",
       "    <tr style=\"text-align: right;\">\n",
       "      <th></th>\n",
       "      <th>content</th>\n",
       "      <th>published</th>\n",
       "      <th>title</th>\n",
       "      <th>author</th>\n",
       "      <th>domain</th>\n",
       "      <th>url</th>\n",
       "      <th>tags</th>\n",
       "    </tr>\n",
       "  </thead>\n",
       "  <tbody>\n",
       "    <tr>\n",
       "      <th>0</th>\n",
       "      <td>Member previewHITRECORDhitrecord.org is a new ...</td>\n",
       "      <td>2018-02-21 17:01:00.928</td>\n",
       "      <td>For Night Owls, the Day Starts with a Nocturna...</td>\n",
       "      <td>For Night Owls, the Day Starts with a Nocturna...</td>\n",
       "      <td>medium.com</td>\n",
       "      <td>https://medium.com/on-mornings/nocturnalmornin...</td>\n",
       "      <td>MorningRoutines Hitrecord Podcast Night</td>\n",
       "    </tr>\n",
       "    <tr>\n",
       "      <th>1</th>\n",
       "      <td>Member previewMaria Bustillosis a journalist a...</td>\n",
       "      <td>2017-12-07 15:56:00.967</td>\n",
       "      <td>Blockchain is Memory</td>\n",
       "      <td>Blockchain is Memory – Words That Matter – Medium</td>\n",
       "      <td>medium.com</td>\n",
       "      <td>https://medium.com/wordsthatmatter/never-break...</td>\n",
       "      <td>Blockchain Technology History Network WordsTha...</td>\n",
       "    </tr>\n",
       "    <tr>\n",
       "      <th>2</th>\n",
       "      <td>HITRECORDhitrecord.org is a new kind of online...</td>\n",
       "      <td>2018-02-08 17:33:27.816</td>\n",
       "      <td>ON MORNINGS Credits</td>\n",
       "      <td>ON MORNINGS Credits – On Mornings – Medium</td>\n",
       "      <td>medium.com</td>\n",
       "      <td>https://medium.com/on-mornings/onmorningscredi...</td>\n",
       "      <td>Medium Hitrecord OnMornings</td>\n",
       "    </tr>\n",
       "    <tr>\n",
       "      <th>3</th>\n",
       "      <td>Member previewLance UlanoffTech expert, journa...</td>\n",
       "      <td>2018-02-09 18:04:12.262</td>\n",
       "      <td>Apple HomePod Review: Almost love</td>\n",
       "      <td>Apple HomePod Review: Almost love – Lance Ulan...</td>\n",
       "      <td>medium.com</td>\n",
       "      <td>https://medium.com/@LanceUlanoff/apple-homepod...</td>\n",
       "      <td>Apple Homepod Technology Review Audio</td>\n",
       "    </tr>\n",
       "    <tr>\n",
       "      <th>4</th>\n",
       "      <td>MediumEveryone’s stories and ideasOct 2, 2017T...</td>\n",
       "      <td>2017-10-02 23:08:00.000</td>\n",
       "      <td>Tips and tricks for Medium writers</td>\n",
       "      <td>Tips and tricks for Medium writers – 3 min read</td>\n",
       "      <td>blog.medium.com</td>\n",
       "      <td>https://blog.medium.com/tips-and-tricks-for-me...</td>\n",
       "      <td>Medium Help Tips</td>\n",
       "    </tr>\n",
       "    <tr>\n",
       "      <th>5</th>\n",
       "      <td>Ian RompreyBe Everywhere. www.nocertainty.netF...</td>\n",
       "      <td>2018-02-10 20:25:18.721</td>\n",
       "      <td>5 Quality Tips For Growing Your Medium Page.</td>\n",
       "      <td>5 Quality Tips For Growing Your Medium Page. –...</td>\n",
       "      <td>medium.com</td>\n",
       "      <td>https://medium.com/swlh/5-quality-tips-for-gro...</td>\n",
       "      <td>Medium Networking Blog Writing WritingTips</td>\n",
       "    </tr>\n",
       "    <tr>\n",
       "      <th>6</th>\n",
       "      <td>impress 深刻記錄者Nov 15, 2017金鐘得獎導演許立達：劇本是死的，演員才是血...</td>\n",
       "      <td>2017-11-15 11:04:14.337</td>\n",
       "      <td>金鐘得獎導演許立達：劇本是死的，演員才是血肉</td>\n",
       "      <td>金鐘得獎導演許立達：劇本是死的，演員才是血肉 – I’mPress 深刻記錄者 – Medium</td>\n",
       "      <td>medium.com</td>\n",
       "      <td>https://medium.com/impress-%E6%B7%B1%E5%88%BB%...</td>\n",
       "      <td>深刻人物</td>\n",
       "    </tr>\n",
       "    <tr>\n",
       "      <th>7</th>\n",
       "      <td>Azib YaqoobI write about SEO, online reputatio...</td>\n",
       "      <td>2017-10-09 00:10:44.173</td>\n",
       "      <td>10 Ways to Find Freelance Work Online Using Yo...</td>\n",
       "      <td>10 Ways to Find Freelance Work Online Using Yo...</td>\n",
       "      <td>medium.com</td>\n",
       "      <td>https://medium.com/@azib204/find-freelance-wor...</td>\n",
       "      <td>Freelancing Busines Careers Jobs Entrepreneurship</td>\n",
       "    </tr>\n",
       "    <tr>\n",
       "      <th>8</th>\n",
       "      <td>Boris MüllerProfessor for Interaction Design a...</td>\n",
       "      <td>2017-10-22 10:53:56.593</td>\n",
       "      <td>Bringing Design to Science</td>\n",
       "      <td>Bringing Design to Science – Boris Müller – Me...</td>\n",
       "      <td>medium.com</td>\n",
       "      <td>https://medium.com/@borism/bringing-design-to-...</td>\n",
       "      <td>Design Science InteractionDesign Visualization...</td>\n",
       "    </tr>\n",
       "    <tr>\n",
       "      <th>9</th>\n",
       "      <td>Indrek LasnMerchant of happiness, founder @ ht...</td>\n",
       "      <td>2018-02-15 13:51:22.790</td>\n",
       "      <td>The ultimate list of resources for mastering S...</td>\n",
       "      <td>The ultimate list of resources for mastering S...</td>\n",
       "      <td>medium.com</td>\n",
       "      <td>https://medium.com/@wesharehoodies/the-ultimat...</td>\n",
       "      <td>iOS Swift Programming Apple MobileAppDevelopment</td>\n",
       "    </tr>\n",
       "  </tbody>\n",
       "</table>\n",
       "</div>"
      ],
      "text/plain": [
       "                                             content               published  \\\n",
       "0  Member previewHITRECORDhitrecord.org is a new ... 2018-02-21 17:01:00.928   \n",
       "1  Member previewMaria Bustillosis a journalist a... 2017-12-07 15:56:00.967   \n",
       "2  HITRECORDhitrecord.org is a new kind of online... 2018-02-08 17:33:27.816   \n",
       "3  Member previewLance UlanoffTech expert, journa... 2018-02-09 18:04:12.262   \n",
       "4  MediumEveryone’s stories and ideasOct 2, 2017T... 2017-10-02 23:08:00.000   \n",
       "5  Ian RompreyBe Everywhere. www.nocertainty.netF... 2018-02-10 20:25:18.721   \n",
       "6  impress 深刻記錄者Nov 15, 2017金鐘得獎導演許立達：劇本是死的，演員才是血... 2017-11-15 11:04:14.337   \n",
       "7  Azib YaqoobI write about SEO, online reputatio... 2017-10-09 00:10:44.173   \n",
       "8  Boris MüllerProfessor for Interaction Design a... 2017-10-22 10:53:56.593   \n",
       "9  Indrek LasnMerchant of happiness, founder @ ht... 2018-02-15 13:51:22.790   \n",
       "\n",
       "                                               title  \\\n",
       "0  For Night Owls, the Day Starts with a Nocturna...   \n",
       "1                               Blockchain is Memory   \n",
       "2                                ON MORNINGS Credits   \n",
       "3                  Apple HomePod Review: Almost love   \n",
       "4                 Tips and tricks for Medium writers   \n",
       "5       5 Quality Tips For Growing Your Medium Page.   \n",
       "6                             金鐘得獎導演許立達：劇本是死的，演員才是血肉   \n",
       "7  10 Ways to Find Freelance Work Online Using Yo...   \n",
       "8                         Bringing Design to Science   \n",
       "9  The ultimate list of resources for mastering S...   \n",
       "\n",
       "                                              author           domain  \\\n",
       "0  For Night Owls, the Day Starts with a Nocturna...       medium.com   \n",
       "1  Blockchain is Memory – Words That Matter – Medium       medium.com   \n",
       "2         ON MORNINGS Credits – On Mornings – Medium       medium.com   \n",
       "3  Apple HomePod Review: Almost love – Lance Ulan...       medium.com   \n",
       "4    Tips and tricks for Medium writers – 3 min read  blog.medium.com   \n",
       "5  5 Quality Tips For Growing Your Medium Page. –...       medium.com   \n",
       "6   金鐘得獎導演許立達：劇本是死的，演員才是血肉 – I’mPress 深刻記錄者 – Medium       medium.com   \n",
       "7  10 Ways to Find Freelance Work Online Using Yo...       medium.com   \n",
       "8  Bringing Design to Science – Boris Müller – Me...       medium.com   \n",
       "9  The ultimate list of resources for mastering S...       medium.com   \n",
       "\n",
       "                                                 url  \\\n",
       "0  https://medium.com/on-mornings/nocturnalmornin...   \n",
       "1  https://medium.com/wordsthatmatter/never-break...   \n",
       "2  https://medium.com/on-mornings/onmorningscredi...   \n",
       "3  https://medium.com/@LanceUlanoff/apple-homepod...   \n",
       "4  https://blog.medium.com/tips-and-tricks-for-me...   \n",
       "5  https://medium.com/swlh/5-quality-tips-for-gro...   \n",
       "6  https://medium.com/impress-%E6%B7%B1%E5%88%BB%...   \n",
       "7  https://medium.com/@azib204/find-freelance-wor...   \n",
       "8  https://medium.com/@borism/bringing-design-to-...   \n",
       "9  https://medium.com/@wesharehoodies/the-ultimat...   \n",
       "\n",
       "                                                tags  \n",
       "0            MorningRoutines Hitrecord Podcast Night  \n",
       "1  Blockchain Technology History Network WordsTha...  \n",
       "2                        Medium Hitrecord OnMornings  \n",
       "3              Apple Homepod Technology Review Audio  \n",
       "4                                   Medium Help Tips  \n",
       "5         Medium Networking Blog Writing WritingTips  \n",
       "6                                               深刻人物  \n",
       "7  Freelancing Busines Careers Jobs Entrepreneurship  \n",
       "8  Design Science InteractionDesign Visualization...  \n",
       "9   iOS Swift Programming Apple MobileAppDevelopment  "
      ]
     },
     "execution_count": 13,
     "metadata": {},
     "output_type": "execute_result"
    }
   ],
   "source": [
    "content_list, published_list, title_list, author_list, domain_list, url_list, tags_list = extract_features(PATH_TO_TEST)\n",
    "test = pd.DataFrame()\n",
    "test['content'] = content_list\n",
    "test['published'] = pd.to_datetime(published_list, format='%Y-%m-%dT%H:%M:%S.%fZ')\n",
    "test['title'] = title_list\n",
    "test['author'] = author_list\n",
    "test['domain'] = domain_list\n",
    "test['url'] = url_list\n",
    "test['tags'] = tags_list\n",
    "test.head(10)"
   ]
  },
  {
   "cell_type": "code",
   "execution_count": 62,
   "id": "60eb1bb6-f8b5-4628-900f-f157400b12b6",
   "metadata": {},
   "outputs": [
    {
     "data": {
      "text/html": [
       "<div>\n",
       "<style scoped>\n",
       "    .dataframe tbody tr th:only-of-type {\n",
       "        vertical-align: middle;\n",
       "    }\n",
       "\n",
       "    .dataframe tbody tr th {\n",
       "        vertical-align: top;\n",
       "    }\n",
       "\n",
       "    .dataframe thead th {\n",
       "        text-align: right;\n",
       "    }\n",
       "</style>\n",
       "<table border=\"1\" class=\"dataframe\">\n",
       "  <thead>\n",
       "    <tr style=\"text-align: right;\">\n",
       "      <th></th>\n",
       "      <th>log_recommends</th>\n",
       "    </tr>\n",
       "    <tr>\n",
       "      <th>id</th>\n",
       "      <th></th>\n",
       "    </tr>\n",
       "  </thead>\n",
       "  <tbody>\n",
       "    <tr>\n",
       "      <th>8</th>\n",
       "      <td>9.01201</td>\n",
       "    </tr>\n",
       "    <tr>\n",
       "      <th>14</th>\n",
       "      <td>3.49651</td>\n",
       "    </tr>\n",
       "    <tr>\n",
       "      <th>19</th>\n",
       "      <td>0.69315</td>\n",
       "    </tr>\n",
       "    <tr>\n",
       "      <th>22</th>\n",
       "      <td>1.38629</td>\n",
       "    </tr>\n",
       "    <tr>\n",
       "      <th>29</th>\n",
       "      <td>1.94591</td>\n",
       "    </tr>\n",
       "  </tbody>\n",
       "</table>\n",
       "</div>"
      ],
      "text/plain": [
       "    log_recommends\n",
       "id                \n",
       "8          9.01201\n",
       "14         3.49651\n",
       "19         0.69315\n",
       "22         1.38629\n",
       "29         1.94591"
      ]
     },
     "execution_count": 62,
     "metadata": {},
     "output_type": "execute_result"
    }
   ],
   "source": [
    "train_target = pd.read_csv(PATH_TO_TRAIN_TARGET, index_col='id')\n",
    "y = train_target['log_recommends'].values\n",
    "train_target.head()"
   ]
  },
  {
   "cell_type": "code",
   "execution_count": 15,
   "id": "16d1314e-dbc8-4ae6-9044-2e765930d4a3",
   "metadata": {},
   "outputs": [
    {
     "data": {
      "text/html": [
       "<div>\n",
       "<style scoped>\n",
       "    .dataframe tbody tr th:only-of-type {\n",
       "        vertical-align: middle;\n",
       "    }\n",
       "\n",
       "    .dataframe tbody tr th {\n",
       "        vertical-align: top;\n",
       "    }\n",
       "\n",
       "    .dataframe thead th {\n",
       "        text-align: right;\n",
       "    }\n",
       "</style>\n",
       "<table border=\"1\" class=\"dataframe\">\n",
       "  <thead>\n",
       "    <tr style=\"text-align: right;\">\n",
       "      <th></th>\n",
       "      <th>log_recommends</th>\n",
       "    </tr>\n",
       "    <tr>\n",
       "      <th>id</th>\n",
       "      <th></th>\n",
       "    </tr>\n",
       "  </thead>\n",
       "  <tbody>\n",
       "    <tr>\n",
       "      <th>2</th>\n",
       "      <td>1.79176</td>\n",
       "    </tr>\n",
       "    <tr>\n",
       "      <th>3</th>\n",
       "      <td>3.76120</td>\n",
       "    </tr>\n",
       "    <tr>\n",
       "      <th>4</th>\n",
       "      <td>1.94591</td>\n",
       "    </tr>\n",
       "    <tr>\n",
       "      <th>5</th>\n",
       "      <td>3.40120</td>\n",
       "    </tr>\n",
       "    <tr>\n",
       "      <th>7</th>\n",
       "      <td>1.09861</td>\n",
       "    </tr>\n",
       "  </tbody>\n",
       "</table>\n",
       "</div>"
      ],
      "text/plain": [
       "    log_recommends\n",
       "id                \n",
       "2          1.79176\n",
       "3          3.76120\n",
       "4          1.94591\n",
       "5          3.40120\n",
       "7          1.09861"
      ]
     },
     "execution_count": 15,
     "metadata": {},
     "output_type": "execute_result"
    }
   ],
   "source": [
    "test_target = pd.read_csv(PATH_TO_TEST_TARGET, index_col='id')\n",
    "test_target.head()"
   ]
  },
  {
   "cell_type": "code",
   "execution_count": 20,
   "id": "4babd56d-5483-449f-88f7-c771be9b4561",
   "metadata": {},
   "outputs": [],
   "source": [
    "train.to_csv('train_processed.csv')\n",
    "test.to_csv('test_processed.csv')"
   ]
  },
  {
   "cell_type": "markdown",
   "id": "09b82f2a-2064-4ac0-9546-9acd02878d94",
   "metadata": {},
   "source": [
    "## NLP Feature Engineering"
   ]
  },
  {
   "cell_type": "markdown",
   "id": "5c8774e3-8260-4606-b854-6813e93faf9c",
   "metadata": {},
   "source": [
    "### TfIdf for Title"
   ]
  },
  {
   "cell_type": "code",
   "execution_count": 24,
   "id": "3148fb67-486f-4d55-830c-f14e678bd49f",
   "metadata": {},
   "outputs": [
    {
     "name": "stdout",
     "output_type": "stream",
     "text": [
      "CPU times: user 4.01 s, sys: 262 ms, total: 4.27 s\n",
      "Wall time: 4.51 s\n"
     ]
    }
   ],
   "source": [
    "%%time\n",
    "title_vectorizer = TfidfVectorizer(ngram_range=(1,3), max_features=100000)\n",
    "X_train_title_sparse = csr_matrix(title_vectorizer.fit_transform(train['title'].values))\n",
    "X_test_title_sparse = csr_matrix(title_vectorizer.transform(test['title'].values))"
   ]
  },
  {
   "cell_type": "markdown",
   "id": "882af007-6a96-474d-a9b6-76f1fedf97a5",
   "metadata": {},
   "source": [
    "### TfIdf for Content"
   ]
  },
  {
   "cell_type": "code",
   "execution_count": 31,
   "id": "69a9e31e-7b1f-42b3-b754-6d2df5cbaf92",
   "metadata": {},
   "outputs": [
    {
     "name": "stdout",
     "output_type": "stream",
     "text": [
      "CPU times: user 6min 41s, sys: 21.5 s, total: 7min 3s\n",
      "Wall time: 7min 14s\n"
     ]
    }
   ],
   "source": [
    "%%time\n",
    "content_vectorizer = TfidfVectorizer(ngram_range=(1,2), max_features=100000)\n",
    "X_train_content_sparse = csr_matrix(content_vectorizer.fit_transform(train['content'].values))\n",
    "X_test_content_sparse = csr_matrix(content_vectorizer.transform(test['content'].values))"
   ]
  },
  {
   "cell_type": "markdown",
   "id": "ec06b003-8436-4f08-876e-c5411e40ca8d",
   "metadata": {},
   "source": [
    "### Time Features"
   ]
  },
  {
   "cell_type": "code",
   "execution_count": 92,
   "id": "83f4c0dd-46ec-4d23-a1d2-7f80e3aafab0",
   "metadata": {},
   "outputs": [],
   "source": [
    "train['hour'] = train['published'].dt.hour\n",
    "train['morning'] = ((train['hour'] >= 7) & (train['hour'] < 12)).astype('int')\n",
    "train['afternoon'] = ((train['hour'] >= 12) & (train['hour'] < 19)).astype('int')\n",
    "train['evening'] = (((train['hour'] >= 19) & (train['hour'] < 24)) | ((train['hour'] >= 0) & (train['hour'] < 7))).astype('int')\n",
    "train['night'] = ((train['hour'] >= 0) & (train['hour'] < 7)).astype('int')\n",
    "\n",
    "\n",
    "train['day'] = train['published'].dt.weekday\n",
    "train['is_weekend'] = (train['day'] > 4).astype('int')\n",
    "\n",
    "time_cols = ['hour', 'morning', 'afternoon', 'evening', 'night', 'is_weekend']\n",
    "X_train_time_features_sparse = csr_matrix(train[time_cols].values)\n",
    "\n",
    "test['hour'] = test['published'].dt.hour\n",
    "test['morning'] = ((test['hour'] >= 7) & (test['hour'] < 12)).astype('int')\n",
    "test['afternoon'] = ((test['hour'] >= 12) & (test['hour'] < 19)).astype('int')\n",
    "test['evening'] = ((test['hour'] >= 19) & (test['hour'] < 24)).astype('int')\n",
    "test['night'] = ((test['hour'] >= 0) & (test['hour'] < 7)).astype('int')\n",
    "\n",
    "test['day'] = test['published'].dt.weekday\n",
    "test['is_weekend'] = (test['day'] > 4).astype('int')\n",
    "\n",
    "time_cols = ['hour', 'morning', 'afternoon', 'evening', 'night', 'is_weekend']\n",
    "X_test_time_features_sparse = csr_matrix(test[time_cols].values)"
   ]
  },
  {
   "cell_type": "markdown",
   "id": "7d2e75a2-1af0-459e-b85c-690873fa8137",
   "metadata": {},
   "source": [
    "### Authors OHE"
   ]
  },
  {
   "cell_type": "code",
   "execution_count": 112,
   "id": "880bcf11-1004-44e0-84ed-8a1fc5715397",
   "metadata": {},
   "outputs": [
    {
     "name": "stderr",
     "output_type": "stream",
     "text": [
      "<timed exec>:6: FutureWarning: Allowing arbitrary scalar fill_value in SparseDtype is deprecated. In a future version, the fill_value must be a valid value for the SparseDtype.subtype.\n"
     ]
    },
    {
     "name": "stdout",
     "output_type": "stream",
     "text": [
      "CPU times: user 3min 10s, sys: 50.5 s, total: 4min\n",
      "Wall time: 4min 20s\n"
     ]
    }
   ],
   "source": [
    "%%time\n",
    "authors_ohe_train = pd.get_dummies(train['author'], prefix='author', sparse=True)\n",
    "authors_ohe_test = pd.get_dummies(test['author'], prefix='author', sparse=True)\n",
    "authors_ohe_test = authors_ohe_test.reindex(columns=authors_ohe_train.columns, fill_value=0)\n",
    "\n",
    "X_train_author_sparse = csr_matrix(authors_ohe_train.values)\n",
    "X_test_author_sparse = csr_matrix(authors_ohe_test.values)"
   ]
  },
  {
   "cell_type": "markdown",
   "id": "02a78dea-2807-403b-b6ea-229f3d08762c",
   "metadata": {},
   "source": [
    "#### Method 2"
   ]
  },
  {
   "cell_type": "code",
   "execution_count": 108,
   "id": "97fc4ee5-570b-45f7-8fe6-fa26c6d67171",
   "metadata": {},
   "outputs": [],
   "source": [
    "author_train = pd.get_dummies(train['author'], prefix='author', sparse=True)\n",
    "author_test = pd.get_dummies(test['author'], prefix='author', sparse=True)\n",
    "\n",
    "unique_authors_train = list(set(author_train.columns) - set(author_test.columns))\n",
    "unique_authors_test = list(set(author_test.columns) - set(author_train.columns))\n",
    "\n",
    "author_test = author_test.drop(unique_authors_test, axis=1)\n",
    "author_train = author_train.drop(unique_authors_train, axis=1)\n",
    "\n",
    "X_train_author_sparse = csr_matrix(author_train.values)\n",
    "X_test_author_sparse = csr_matrix(author_test.values)"
   ]
  },
  {
   "cell_type": "code",
   "execution_count": 40,
   "id": "e80ecbbe-a54c-4296-a498-ad3528232862",
   "metadata": {},
   "outputs": [
    {
     "data": {
      "text/plain": [
       "((62313, 100000), (34645, 100000))"
      ]
     },
     "execution_count": 40,
     "metadata": {},
     "output_type": "execute_result"
    }
   ],
   "source": [
    "X_train_title_sparse.shape, X_test_title_sparse.shape"
   ]
  },
  {
   "cell_type": "code",
   "execution_count": 113,
   "id": "b733458b-b234-4354-9c7e-1da2fbbc1474",
   "metadata": {},
   "outputs": [
    {
     "data": {
      "text/plain": [
       "((62313, 62078), (34645, 62078))"
      ]
     },
     "execution_count": 113,
     "metadata": {},
     "output_type": "execute_result"
    }
   ],
   "source": [
    "X_train_author_sparse.shape, X_test_author_sparse.shape"
   ]
  },
  {
   "cell_type": "code",
   "execution_count": 44,
   "id": "dab2a826-76d5-4e0c-ad33-c7e6fa21a986",
   "metadata": {},
   "outputs": [
    {
     "data": {
      "text/plain": [
       "((62313, 100000), (34645, 100000))"
      ]
     },
     "execution_count": 44,
     "metadata": {},
     "output_type": "execute_result"
    }
   ],
   "source": [
    "X_train_content_sparse.shape, X_test_content_sparse.shape"
   ]
  },
  {
   "cell_type": "code",
   "execution_count": 94,
   "id": "417ad844-9e85-43ef-9cbf-509f2f8c0fc7",
   "metadata": {},
   "outputs": [
    {
     "data": {
      "text/plain": [
       "((62313, 6), (34645, 6))"
      ]
     },
     "execution_count": 94,
     "metadata": {},
     "output_type": "execute_result"
    }
   ],
   "source": [
    "X_train_time_features_sparse.shape, X_test_time_features_sparse.shape"
   ]
  },
  {
   "cell_type": "code",
   "execution_count": 96,
   "id": "27ae6c69-8347-4d38-9214-7e3683030e28",
   "metadata": {},
   "outputs": [
    {
     "data": {
      "text/plain": [
       "((62313, 262084), (34645, 262084))"
      ]
     },
     "execution_count": 96,
     "metadata": {},
     "output_type": "execute_result"
    }
   ],
   "source": [
    "X_train_sparse = hstack(\n",
    "    [\n",
    "        X_train_content_sparse,\n",
    "        X_train_title_sparse,\n",
    "        X_train_author_sparse,\n",
    "        X_train_time_features_sparse,\n",
    "    ]\n",
    ").tocsr()\n",
    "\n",
    "X_test_sparse = hstack(\n",
    "    [\n",
    "        X_test_content_sparse,\n",
    "        X_test_title_sparse,\n",
    "        X_test_author_sparse,\n",
    "        X_test_time_features_sparse,\n",
    "    ]\n",
    ").tocsr()\n",
    "\n",
    "X_train_sparse.shape, X_test_sparse.shape"
   ]
  },
  {
   "cell_type": "code",
   "execution_count": 97,
   "id": "09a4825a-1de2-40ef-8732-0e42b607bfde",
   "metadata": {},
   "outputs": [
    {
     "data": {
      "text/plain": [
       "((43619, 262084), (43619,), (18694, 262084), (18694,))"
      ]
     },
     "execution_count": 97,
     "metadata": {},
     "output_type": "execute_result"
    }
   ],
   "source": [
    "split_idx = int(X_train_sparse.shape[0] * 0.7)\n",
    "X_train, X_valid = X_train_sparse[:split_idx], X_train_sparse[split_idx:]\n",
    "y_train, y_valid = y[:split_idx], y[split_idx:]\n",
    "X_train.shape, y_train.shape, X_valid.shape, y_valid.shape"
   ]
  },
  {
   "cell_type": "code",
   "execution_count": 98,
   "id": "51a83e61-8eb1-4bd9-89d5-8bf4dad2a580",
   "metadata": {},
   "outputs": [
    {
     "name": "stdout",
     "output_type": "stream",
     "text": [
      "Begin Fitting\n",
      "Finish Fitting\n",
      "Begin Predicting\n",
      "Finish Predictin\n",
      "CPU times: user 1min 58s, sys: 44 s, total: 2min 42s\n",
      "Wall time: 33 s\n"
     ]
    },
    {
     "data": {
      "text/plain": [
       "1.1693346177112869"
      ]
     },
     "execution_count": 98,
     "metadata": {},
     "output_type": "execute_result"
    }
   ],
   "source": [
    "%%time\n",
    "rr = Ridge(random_state=17)\n",
    "print('Begin Fitting')\n",
    "rr.fit(X_train, y_train)\n",
    "print('Finish Fitting')\n",
    "print('Begin Predicting')\n",
    "rr_predictions = rr.predict(X_valid)\n",
    "print('Finish Predictin')\n",
    "mean_absolute_error(y_valid, rr_predictions)"
   ]
  },
  {
   "cell_type": "code",
   "execution_count": 99,
   "id": "8719368e-7101-42bf-ac7d-51001f585a16",
   "metadata": {},
   "outputs": [
    {
     "data": {
      "image/png": "[encoded data removed]",
      "text/plain": [
       "<Figure size 640x480 with 1 Axes>"
      ]
     },
     "metadata": {},
     "output_type": "display_data"
    }
   ],
   "source": [
    "plt.hist(y_valid, bins=30, alpha=0.5, color=\"red\", label=\"true\", range=(0, 10))\n",
    "plt.hist(\n",
    "    rr_predictions, bins=30, alpha=0.5, color=\"green\", label=\"pred\", range=(0, 10)\n",
    ")\n",
    "plt.legend();"
   ]
  },
  {
   "cell_type": "code",
   "execution_count": 79,
   "id": "cacd304e-4391-4e8f-8f22-74127257b757",
   "metadata": {},
   "outputs": [],
   "source": [
    "rr.fit(X_train_sparse, y)\n",
    "rr_predictions = rr.predict(X_test_sparse)"
   ]
  },
  {
   "cell_type": "code",
   "execution_count": 88,
   "id": "018f7090-45b9-47cc-b614-7928ced650d3",
   "metadata": {},
   "outputs": [],
   "source": [
    "submission = pd.read_csv(PATH_TO_SAMPLE_SUBMISSION, index_col=\"id\")\n",
    "submission['log_recommends'] = rr_predictions\n",
    "submission.to_csv('submission1.csv')"
   ]
  },
  {
   "cell_type": "code",
   "execution_count": null,
   "id": "a98a78a6-9ebd-4b0b-a296-c425621d151e",
   "metadata": {},
   "outputs": [],
   "source": []
  }
 ],
 "metadata": {
  "kernelspec": {
   "display_name": "Python 3 (ipykernel)",
   "language": "python",
   "name": "python3"
  },
  "language_info": {
   "codemirror_mode": {
    "name": "ipython",
    "version": 3
   },
   "file_extension": ".py",
   "mimetype": "text/x-python",
   "name": "python",
   "nbconvert_exporter": "python",
   "pygments_lexer": "ipython3",
   "version": "3.12.4"
  }
 },
 "nbformat": 4,
 "nbformat_minor": 5
}
