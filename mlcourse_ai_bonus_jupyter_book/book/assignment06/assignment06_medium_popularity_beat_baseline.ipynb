{
 "cells": [
  {
   "cell_type": "markdown",
   "metadata": {},
   "source": [
    "<img src=\"https://habrastorage.org/webt/ia/m9/zk/iam9zkyzqebnf_okxipihkgjwnw.jpeg\" />\n",
    "    \n",
    "**<center>[mlcourse.ai](https://mlcourse.ai) – Open Machine Learning Course** </center><br>\n",
    "Author: [Yury Kashnitskiy](https://yorko.github.io) (@yorko). [mlcourse.ai](https://mlcourse.ai) is powered by [OpenDataScience (ods.ai)](https://ods.ai/) © 2017—2022"
   ]
  },
  {
   "cell_type": "markdown",
   "metadata": {},
   "source": [
    "# <center>Assignment #6. Task</center><a class=\"tocSkip\">\n",
    "## <center> Beating benchmarks in \"How good is your Medium article?\"</center><a class=\"tocSkip\">\n",
    "    \n",
    "[Competition](https://www.kaggle.com/c/how-good-is-your-medium-article). The task is to beat \"Assignment 6 baseline\" (~1.45 Public LB score). You can refer to [this simple Ridge baseline](https://www.kaggle.com/kashnitsky/ridge-countvectorizer-baseline?rvi=1).\n",
    "\n",
    "-----"
   ]
  },
  {
   "cell_type": "code",
   "execution_count": 51,
   "metadata": {},
   "outputs": [],
   "source": [
    "import json\n",
    "import os\n",
    "from pathlib import Path\n",
    "from bs4 import BeautifulSoup\n",
    "\n",
    "import numpy as np\n",
    "import pandas as pd\n",
    "from scipy.sparse import csr_matrix, hstack\n",
    "from sklearn.feature_extraction.text import TfidfVectorizer\n",
    "from sklearn.linear_model import Ridge\n",
    "from sklearn.metrics import mean_absolute_error\n",
    "from tqdm.notebook import tqdm"
   ]
  },
  {
   "cell_type": "markdown",
   "metadata": {},
   "source": [
    "The following code will help to throw away all HTML tags from an article content."
   ]
  },
  {
   "cell_type": "code",
   "execution_count": 2,
   "metadata": {},
   "outputs": [],
   "source": [
    "from html.parser import HTMLParser\n",
    "\n",
    "\n",
    "class MLStripper(HTMLParser):\n",
    "    def __init__(self):\n",
    "        self.reset()\n",
    "        self.strict = False\n",
    "        self.convert_charrefs = True\n",
    "        self.fed = []\n",
    "\n",
    "    def handle_data(self, d):\n",
    "        self.fed.append(d)\n",
    "\n",
    "    def get_data(self):\n",
    "        return \"\".join(self.fed)\n",
    "\n",
    "\n",
    "def strip_tags(html):\n",
    "    s = MLStripper()\n",
    "    s.feed(html)\n",
    "    return s.get_data()"
   ]
  },
  {
   "cell_type": "markdown",
   "metadata": {},
   "source": [
    "Supplementary function to read a JSON line without crashing on escape characters."
   ]
  },
  {
   "cell_type": "code",
   "execution_count": 5,
   "metadata": {},
   "outputs": [],
   "source": [
    "def read_json_line(line=None):\n",
    "    result = None\n",
    "    try:\n",
    "        result = json.loads(line)\n",
    "    except Exception as e:\n",
    "        # Find the offending character index:\n",
    "        idx_to_replace = int(str(e).split(\" \")[-1].replace(\")\", \"\"))\n",
    "        # Remove the offending character:\n",
    "        new_line = list(line)\n",
    "        new_line[idx_to_replace] = \" \"\n",
    "        new_line = \"\".join(new_line)\n",
    "        return read_json_line(line=new_line)\n",
    "    return result"
   ]
  },
  {
   "cell_type": "markdown",
   "metadata": {},
   "source": [
    "Extract features `content`, `published`, `title` and `author`, write them to separate files for train and test sets."
   ]
  },
  {
   "cell_type": "code",
   "execution_count": 7,
   "metadata": {},
   "outputs": [],
   "source": [
    "def extract_features_and_write(path_to_data, inp_filename, is_train=True):\n",
    "\n",
    "    features = [\"content\", \"published\", \"title\", \"author\"]\n",
    "    prefix = \"train\" if is_train else \"test\"\n",
    "    feature_files = [\n",
    "        open(\n",
    "            os.path.join(path_to_data, \"{}_{}.txt\".format(prefix, feat)),\n",
    "            \"w\",\n",
    "            encoding=\"utf-8\",\n",
    "        )\n",
    "        for feat in features\n",
    "    ]\n",
    "\n",
    "    with open(\n",
    "        os.path.join(path_to_data, inp_filename), encoding=\"utf-8\"\n",
    "    ) as inp_json_file:\n",
    "\n",
    "        for line in tqdm(inp_json_file):\n",
    "            json_data = read_json_line(line)\n",
    "\n",
    "\n",
    "# You code here (read-only in a JupyterBook, pls run jupyter-notebook to edit)"
   ]
  },
  {
   "cell_type": "markdown",
   "metadata": {},
   "source": [
    "Download the [competition data](https://www.kaggle.com/c/how-good-is-your-medium-article/data) and place it where it's convenient for you. You can modify the path to data below."
   ]
  },
  {
   "cell_type": "code",
   "execution_count": 19,
   "metadata": {},
   "outputs": [],
   "source": [
    "PATH_TO_DATA = Path(\"../../_static/data/assignment6/\")  # modify this if you need to"
   ]
  },
  {
   "cell_type": "code",
   "execution_count": 71,
   "metadata": {},
   "outputs": [],
   "source": [
    "X_train = pd.read_json(PATH_TO_DATA / 'train.json', lines=True)\n",
    "X_train = X_train[X_train.columns[3:]]\n",
    "X_train['published'] = pd.to_datetime(X_train['published'].apply(lambda x: x['$date']), format='%Y-%m-%dT%H:%M:%S.%fZ')"
   ]
  },
  {
   "cell_type": "code",
   "execution_count": 133,
   "metadata": {},
   "outputs": [
    {
     "data": {
      "text/html": [
       "<div>\n",
       "<style scoped>\n",
       "    .dataframe tbody tr th:only-of-type {\n",
       "        vertical-align: middle;\n",
       "    }\n",
       "\n",
       "    .dataframe tbody tr th {\n",
       "        vertical-align: top;\n",
       "    }\n",
       "\n",
       "    .dataframe thead th {\n",
       "        text-align: right;\n",
       "    }\n",
       "</style>\n",
       "<table border=\"1\" class=\"dataframe\">\n",
       "  <thead>\n",
       "    <tr style=\"text-align: right;\">\n",
       "      <th></th>\n",
       "      <th>published</th>\n",
       "      <th>title</th>\n",
       "      <th>author</th>\n",
       "      <th>domain</th>\n",
       "      <th>url</th>\n",
       "      <th>tags</th>\n",
       "    </tr>\n",
       "  </thead>\n",
       "  <tbody>\n",
       "    <tr>\n",
       "      <th>24068</th>\n",
       "      <td>1970-01-01 00:00:00.001</td>\n",
       "      <td>Saving Your Marriage By Watching Steamy Sex Ed...</td>\n",
       "      <td>Susan Bratton</td>\n",
       "      <td>medium.com</td>\n",
       "      <td>http://personallifemedia.com/2017/01/saving-ma...</td>\n",
       "      <td>Lovemaking Sex SexPositions EarlyBird SexEdVideos</td>\n",
       "    </tr>\n",
       "    <tr>\n",
       "      <th>59081</th>\n",
       "      <td>1970-01-01 00:00:00.001</td>\n",
       "      <td>やってよかった中学受験 – Ryo Ooishi – Medium</td>\n",
       "      <td>Ryo Ooishi</td>\n",
       "      <td>medium.com</td>\n",
       "      <td>https://medium.com/@ooishi/%E3%82%84%E3%81%A3%...</td>\n",
       "      <td></td>\n",
       "    </tr>\n",
       "    <tr>\n",
       "      <th>54757</th>\n",
       "      <td>1970-01-18 03:21:32.400</td>\n",
       "      <td>はてなブログに書いた今年の手帳のお話 – なぞちゅうの部屋 – Medium</td>\n",
       "      <td>なぞちゅう</td>\n",
       "      <td>medium.com</td>\n",
       "      <td>http://nazoblackrx.hatenablog.com/entry/2016/1...</td>\n",
       "      <td>徒然日記 手帳 ブログ</td>\n",
       "    </tr>\n",
       "    <tr>\n",
       "      <th>32182</th>\n",
       "      <td>1987-12-08 21:45:00.000</td>\n",
       "      <td>Internet Corporation LLC to Acquire Early Clue...</td>\n",
       "      <td>Internet Corporation LLC</td>\n",
       "      <td>medium.com</td>\n",
       "      <td>https://medium.com/the-internet-corporation/de...</td>\n",
       "      <td>SocialMedia EarlyClues InternetCorporationLlc</td>\n",
       "    </tr>\n",
       "    <tr>\n",
       "      <th>33152</th>\n",
       "      <td>2003-12-29 17:00:00.000</td>\n",
       "      <td>g sowtwaretrading botMoneyMoneyMakeGetting To ...</td>\n",
       "      <td>Mackenzie Oldridge</td>\n",
       "      <td>medium.com</td>\n",
       "      <td>http://www.investopedia.com/articles/optioninv...</td>\n",
       "      <td>Finance Trading</td>\n",
       "    </tr>\n",
       "    <tr>\n",
       "      <th>...</th>\n",
       "      <td>...</td>\n",
       "      <td>...</td>\n",
       "      <td>...</td>\n",
       "      <td>...</td>\n",
       "      <td>...</td>\n",
       "      <td>...</td>\n",
       "    </tr>\n",
       "    <tr>\n",
       "      <th>16281</th>\n",
       "      <td>2017-06-30 22:52:19.817</td>\n",
       "      <td>Melhores práticas de SEO para Redatores — Webw...</td>\n",
       "      <td>Bruna Ciafrei</td>\n",
       "      <td>medium.com</td>\n",
       "      <td>https://medium.com/galata/melhores-pr%C3%A1tic...</td>\n",
       "      <td>Webwriting Marketing SEO Google TutoriaisGalata</td>\n",
       "    </tr>\n",
       "    <tr>\n",
       "      <th>4864</th>\n",
       "      <td>2017-06-30 22:57:00.044</td>\n",
       "      <td>All men (what about women?) are created equal:...</td>\n",
       "      <td>kerry stranman</td>\n",
       "      <td>medium.com</td>\n",
       "      <td>https://medium.com/enso/all-men-what-about-wom...</td>\n",
       "      <td>GenderEquality EqualRights SharedMission Const...</td>\n",
       "    </tr>\n",
       "    <tr>\n",
       "      <th>22525</th>\n",
       "      <td>2017-06-30 23:05:40.000</td>\n",
       "      <td>‘Artiz’lerden sanatçı duyarlılığı beklemek! – ...</td>\n",
       "      <td>Akif Umut Avaz</td>\n",
       "      <td>medium.com</td>\n",
       "      <td>http://www.tr724.com/artizlerden-sanatci-duyar...</td>\n",
       "      <td>Tr724Yorum Tr724</td>\n",
       "    </tr>\n",
       "    <tr>\n",
       "      <th>58493</th>\n",
       "      <td>2017-06-30 23:31:50.736</td>\n",
       "      <td>Princípios gerais do processo civil – Anotaçõe...</td>\n",
       "      <td>niva</td>\n",
       "      <td>medium.com</td>\n",
       "      <td>https://medium.com/anota%C3%A7%C3%B5es-de-dire...</td>\n",
       "      <td>Dpc0213 TeoriaGeralDoProcesso Tgp ProcessoCivil</td>\n",
       "    </tr>\n",
       "    <tr>\n",
       "      <th>52691</th>\n",
       "      <td>2017-06-30 23:40:35.633</td>\n",
       "      <td>Salamancas, antepasados y espíritus guardianes...</td>\n",
       "      <td>Patricio Barría</td>\n",
       "      <td>medium.com</td>\n",
       "      <td>https://medium.com/@patopullayes/salamancas-an...</td>\n",
       "      <td>Chile Etnografia ValleDeElqui Brujeria Postcol...</td>\n",
       "    </tr>\n",
       "  </tbody>\n",
       "</table>\n",
       "<p>62313 rows × 6 columns</p>\n",
       "</div>"
      ],
      "text/plain": [
       "                    published  \\\n",
       "24068 1970-01-01 00:00:00.001   \n",
       "59081 1970-01-01 00:00:00.001   \n",
       "54757 1970-01-18 03:21:32.400   \n",
       "32182 1987-12-08 21:45:00.000   \n",
       "33152 2003-12-29 17:00:00.000   \n",
       "...                       ...   \n",
       "16281 2017-06-30 22:52:19.817   \n",
       "4864  2017-06-30 22:57:00.044   \n",
       "22525 2017-06-30 23:05:40.000   \n",
       "58493 2017-06-30 23:31:50.736   \n",
       "52691 2017-06-30 23:40:35.633   \n",
       "\n",
       "                                                   title  \\\n",
       "24068  Saving Your Marriage By Watching Steamy Sex Ed...   \n",
       "59081                  やってよかった中学受験 – Ryo Ooishi – Medium   \n",
       "54757             はてなブログに書いた今年の手帳のお話 – なぞちゅうの部屋 – Medium   \n",
       "32182  Internet Corporation LLC to Acquire Early Clue...   \n",
       "33152  g sowtwaretrading botMoneyMoneyMakeGetting To ...   \n",
       "...                                                  ...   \n",
       "16281  Melhores práticas de SEO para Redatores — Webw...   \n",
       "4864   All men (what about women?) are created equal:...   \n",
       "22525  ‘Artiz’lerden sanatçı duyarlılığı beklemek! – ...   \n",
       "58493  Princípios gerais do processo civil – Anotaçõe...   \n",
       "52691  Salamancas, antepasados y espíritus guardianes...   \n",
       "\n",
       "                         author      domain  \\\n",
       "24068             Susan Bratton  medium.com   \n",
       "59081                Ryo Ooishi  medium.com   \n",
       "54757                     なぞちゅう  medium.com   \n",
       "32182  Internet Corporation LLC  medium.com   \n",
       "33152        Mackenzie Oldridge  medium.com   \n",
       "...                         ...         ...   \n",
       "16281             Bruna Ciafrei  medium.com   \n",
       "4864             kerry stranman  medium.com   \n",
       "22525            Akif Umut Avaz  medium.com   \n",
       "58493                      niva  medium.com   \n",
       "52691           Patricio Barría  medium.com   \n",
       "\n",
       "                                                     url  \\\n",
       "24068  http://personallifemedia.com/2017/01/saving-ma...   \n",
       "59081  https://medium.com/@ooishi/%E3%82%84%E3%81%A3%...   \n",
       "54757  http://nazoblackrx.hatenablog.com/entry/2016/1...   \n",
       "32182  https://medium.com/the-internet-corporation/de...   \n",
       "33152  http://www.investopedia.com/articles/optioninv...   \n",
       "...                                                  ...   \n",
       "16281  https://medium.com/galata/melhores-pr%C3%A1tic...   \n",
       "4864   https://medium.com/enso/all-men-what-about-wom...   \n",
       "22525  http://www.tr724.com/artizlerden-sanatci-duyar...   \n",
       "58493  https://medium.com/anota%C3%A7%C3%B5es-de-dire...   \n",
       "52691  https://medium.com/@patopullayes/salamancas-an...   \n",
       "\n",
       "                                                    tags  \n",
       "24068  Lovemaking Sex SexPositions EarlyBird SexEdVideos  \n",
       "59081                                                     \n",
       "54757                                        徒然日記 手帳 ブログ  \n",
       "32182      SocialMedia EarlyClues InternetCorporationLlc  \n",
       "33152                                    Finance Trading  \n",
       "...                                                  ...  \n",
       "16281    Webwriting Marketing SEO Google TutoriaisGalata  \n",
       "4864   GenderEquality EqualRights SharedMission Const...  \n",
       "22525                                   Tr724Yorum Tr724  \n",
       "58493    Dpc0213 TeoriaGeralDoProcesso Tgp ProcessoCivil  \n",
       "52691  Chile Etnografia ValleDeElqui Brujeria Postcol...  \n",
       "\n",
       "[62313 rows x 6 columns]"
      ]
     },
     "execution_count": 133,
     "metadata": {},
     "output_type": "execute_result"
    }
   ],
   "source": [
    "tmp = pd.DataFrame()\n",
    "tmp['published'] = X_train['published']\n",
    "tmp['title'] = X_train['title']\n",
    "tmp['author'] = X_train['meta_tags'].apply(lambda x: x['author'])\n",
    "tmp['domain'] = X_train['domain']\n",
    "tmp['url'] = X_train['url']\n",
    "tmp['tags'] = X_train['content'].apply(extract_tags)\n",
    "tmp.sort_values(by='published')"
   ]
  },
  {
   "cell_type": "code",
   "execution_count": 153,
   "metadata": {},
   "outputs": [
    {
     "data": {
      "text/plain": [
       "'Phenom, a 500 Startups Company – Hacker Noon'"
      ]
     },
     "execution_count": 153,
     "metadata": {},
     "output_type": "execute_result"
    }
   ],
   "source": [
    "tmp.title.iloc[20]"
   ]
  },
  {
   "cell_type": "code",
   "execution_count": 131,
   "metadata": {},
   "outputs": [],
   "source": [
    "def extract_tags(content):\n",
    "    tags_str = []\n",
    "    soup = BeautifulSoup(content, 'lxml')\n",
    "    try:\n",
    "        tag_block = soup.find('ul', class_='tags')\n",
    "        tags = tag_block.find_all('a')\n",
    "        for tag in tags:\n",
    "            tags_str.append(tag.text.translate({ord(' '):None, ord('-'):None}))\n",
    "        tags = ' '.join(tags_str)\n",
    "    except Exception:\n",
    "        tags = 'None'\n",
    "    return tags"
   ]
  },
  {
   "cell_type": "code",
   "execution_count": 115,
   "metadata": {},
   "outputs": [
    {
     "data": {
      "text/plain": [
       "'Susan Bratton'"
      ]
     },
     "execution_count": 115,
     "metadata": {},
     "output_type": "execute_result"
    }
   ],
   "source": [
    "X_train.sort_values(by='published')['meta_tags'].iloc[0]['author']"
   ]
  },
  {
   "cell_type": "code",
   "execution_count": 105,
   "metadata": {},
   "outputs": [
    {
     "data": {
      "text/html": [
       "<div>\n",
       "<style scoped>\n",
       "    .dataframe tbody tr th:only-of-type {\n",
       "        vertical-align: middle;\n",
       "    }\n",
       "\n",
       "    .dataframe tbody tr th {\n",
       "        vertical-align: top;\n",
       "    }\n",
       "\n",
       "    .dataframe thead th {\n",
       "        text-align: right;\n",
       "    }\n",
       "</style>\n",
       "<table border=\"1\" class=\"dataframe\">\n",
       "  <thead>\n",
       "    <tr style=\"text-align: right;\">\n",
       "      <th></th>\n",
       "      <th>url</th>\n",
       "      <th>domain</th>\n",
       "      <th>published</th>\n",
       "      <th>title</th>\n",
       "      <th>content</th>\n",
       "      <th>author</th>\n",
       "      <th>image_url</th>\n",
       "      <th>tags</th>\n",
       "      <th>link_tags</th>\n",
       "      <th>meta_tags</th>\n",
       "    </tr>\n",
       "  </thead>\n",
       "  <tbody>\n",
       "    <tr>\n",
       "      <th>0</th>\n",
       "      <td>https://medium.com/policy/medium-terms-of-serv...</td>\n",
       "      <td>medium.com</td>\n",
       "      <td>2012-08-13 22:54:53.510</td>\n",
       "      <td>Medium Terms of Service – Medium Policy – Medium</td>\n",
       "      <td>&lt;div&gt;&lt;header class=\"container u-maxWidth740\"&gt;&lt;...</td>\n",
       "      <td>{'name': None, 'url': 'https://medium.com/@Med...</td>\n",
       "      <td>None</td>\n",
       "      <td>[]</td>\n",
       "      <td>{'canonical': 'https://medium.com/policy/mediu...</td>\n",
       "      <td>{'viewport': 'width=device-width, initial-scal...</td>\n",
       "    </tr>\n",
       "    <tr>\n",
       "      <th>1</th>\n",
       "      <td>https://medium.com/policy/amendment-to-medium-...</td>\n",
       "      <td>medium.com</td>\n",
       "      <td>2015-08-03 07:44:50.331</td>\n",
       "      <td>Amendment to Medium Terms of Service Applicabl...</td>\n",
       "      <td>&lt;div&gt;&lt;header class=\"container u-maxWidth740\"&gt;&lt;...</td>\n",
       "      <td>{'name': None, 'url': 'https://medium.com/@Med...</td>\n",
       "      <td>None</td>\n",
       "      <td>[]</td>\n",
       "      <td>{'canonical': 'https://medium.com/policy/amend...</td>\n",
       "      <td>{'viewport': 'width=device-width, initial-scal...</td>\n",
       "    </tr>\n",
       "    <tr>\n",
       "      <th>2</th>\n",
       "      <td>https://medium.com/@aelcenganda/%E9%96%A9%E6%9...</td>\n",
       "      <td>medium.com</td>\n",
       "      <td>2017-02-05 13:08:17.410</td>\n",
       "      <td>走入山與海之間：閩東大刀會和兩岸走私 – Yun-Chen Chien（簡韻真） – Medium</td>\n",
       "      <td>&lt;div&gt;&lt;header class=\"container u-maxWidth740\"&gt;&lt;...</td>\n",
       "      <td>{'name': None, 'url': 'https://medium.com/@ael...</td>\n",
       "      <td>https://cdn-images-1.medium.com/max/1200/1*k9f...</td>\n",
       "      <td>[]</td>\n",
       "      <td>{'canonical': 'https://medium.com/@aelcenganda...</td>\n",
       "      <td>{'viewport': 'width=device-width, initial-scal...</td>\n",
       "    </tr>\n",
       "    <tr>\n",
       "      <th>3</th>\n",
       "      <td>https://medium.com/what-comes-to-mind/how-fast...</td>\n",
       "      <td>medium.com</td>\n",
       "      <td>2017-05-06 08:16:30.776</td>\n",
       "      <td>How fast can a camera get? – What comes to min...</td>\n",
       "      <td>&lt;div&gt;&lt;header class=\"container u-maxWidth740\"&gt;&lt;...</td>\n",
       "      <td>{'name': None, 'url': 'https://medium.com/@vai...</td>\n",
       "      <td>https://cdn-images-1.medium.com/max/1200/1*6UZ...</td>\n",
       "      <td>[]</td>\n",
       "      <td>{'canonical': 'https://medium.com/what-comes-t...</td>\n",
       "      <td>{'viewport': 'width=device-width, initial-scal...</td>\n",
       "    </tr>\n",
       "    <tr>\n",
       "      <th>4</th>\n",
       "      <td>https://medium.com/what-comes-to-mind/a-game-f...</td>\n",
       "      <td>medium.com</td>\n",
       "      <td>2017-06-04 14:46:25.772</td>\n",
       "      <td>A game for the lonely fox – What comes to mind...</td>\n",
       "      <td>&lt;div&gt;&lt;header class=\"container u-maxWidth740\"&gt;&lt;...</td>\n",
       "      <td>{'name': None, 'url': 'https://medium.com/@vai...</td>\n",
       "      <td>https://cdn-images-1.medium.com/max/1200/1*liU...</td>\n",
       "      <td>[]</td>\n",
       "      <td>{'canonical': 'https://medium.com/what-comes-t...</td>\n",
       "      <td>{'viewport': 'width=device-width, initial-scal...</td>\n",
       "    </tr>\n",
       "    <tr>\n",
       "      <th>...</th>\n",
       "      <td>...</td>\n",
       "      <td>...</td>\n",
       "      <td>...</td>\n",
       "      <td>...</td>\n",
       "      <td>...</td>\n",
       "      <td>...</td>\n",
       "      <td>...</td>\n",
       "      <td>...</td>\n",
       "      <td>...</td>\n",
       "      <td>...</td>\n",
       "    </tr>\n",
       "    <tr>\n",
       "      <th>62308</th>\n",
       "      <td>https://medium.com/@Politix_news/whenialmostdi...</td>\n",
       "      <td>medium.com</td>\n",
       "      <td>2016-01-28 01:03:08.798</td>\n",
       "      <td>WhenIAlmostDied – Heather Nann – Medium</td>\n",
       "      <td>&lt;div&gt;&lt;header class=\"container u-maxWidth740\"&gt;&lt;...</td>\n",
       "      <td>{'name': None, 'url': 'https://medium.com/@Pol...</td>\n",
       "      <td>https://cdn-images-1.medium.com/max/1200/1*bGg...</td>\n",
       "      <td>[]</td>\n",
       "      <td>{'canonical': 'https://medium.com/@Politix_new...</td>\n",
       "      <td>{'viewport': 'width=device-width, initial-scal...</td>\n",
       "    </tr>\n",
       "    <tr>\n",
       "      <th>62309</th>\n",
       "      <td>https://medium.com/@Politix_news/twitter-troll...</td>\n",
       "      <td>medium.com</td>\n",
       "      <td>2016-01-14 13:28:30.277</td>\n",
       "      <td>Twitter Troll Trigger Alert – Heather Nann – M...</td>\n",
       "      <td>&lt;div&gt;&lt;header class=\"container u-maxWidth740\"&gt;&lt;...</td>\n",
       "      <td>{'name': None, 'url': 'https://medium.com/@Pol...</td>\n",
       "      <td>https://cdn-images-1.medium.com/max/1200/1*90B...</td>\n",
       "      <td>[]</td>\n",
       "      <td>{'canonical': 'https://medium.com/@Politix_new...</td>\n",
       "      <td>{'viewport': 'width=device-width, initial-scal...</td>\n",
       "    </tr>\n",
       "    <tr>\n",
       "      <th>62310</th>\n",
       "      <td>https://medium.com/@Politix_news/space-and-can...</td>\n",
       "      <td>medium.com</td>\n",
       "      <td>2016-03-06 06:51:45.307</td>\n",
       "      <td>Space and candles – Heather Nann – Medium</td>\n",
       "      <td>&lt;div&gt;&lt;header class=\"container u-maxWidth740\"&gt;&lt;...</td>\n",
       "      <td>{'name': None, 'url': 'https://medium.com/@Pol...</td>\n",
       "      <td>https://cdn-images-1.medium.com/focal/1200/632...</td>\n",
       "      <td>[]</td>\n",
       "      <td>{'canonical': 'https://medium.com/@Politix_new...</td>\n",
       "      <td>{'viewport': 'width=device-width, initial-scal...</td>\n",
       "    </tr>\n",
       "    <tr>\n",
       "      <th>62311</th>\n",
       "      <td>https://medium.com/swip/laser-focus-your-team-...</td>\n",
       "      <td>medium.com</td>\n",
       "      <td>2017-01-15 17:45:22.836</td>\n",
       "      <td>Laser focus your team using Work-In-Progress l...</td>\n",
       "      <td>&lt;div&gt;&lt;header class=\"container u-maxWidth740\"&gt;&lt;...</td>\n",
       "      <td>{'name': None, 'url': 'https://medium.com/@nic...</td>\n",
       "      <td>https://cdn-images-1.medium.com/max/1200/1*hko...</td>\n",
       "      <td>[]</td>\n",
       "      <td>{'canonical': 'https://medium.com/swip/laser-f...</td>\n",
       "      <td>{'viewport': 'width=device-width, initial-scal...</td>\n",
       "    </tr>\n",
       "    <tr>\n",
       "      <th>62312</th>\n",
       "      <td>https://byrslf.co/i-wish-you-were-dead-658ed1c...</td>\n",
       "      <td>byrslf.co</td>\n",
       "      <td>2016-01-25 03:20:33.005</td>\n",
       "      <td>“I WISH YOU WOULD KILL YOURSELF” – Be Yourself</td>\n",
       "      <td>&lt;div&gt;&lt;header class=\"container u-maxWidth740\"&gt;&lt;...</td>\n",
       "      <td>{'name': None, 'url': 'https://byrslf.co/@Poli...</td>\n",
       "      <td>https://cdn-images-1.medium.com/max/1200/1*3GD...</td>\n",
       "      <td>[]</td>\n",
       "      <td>{'canonical': 'https://byrslf.co/i-wish-you-we...</td>\n",
       "      <td>{'viewport': 'width=device-width, initial-scal...</td>\n",
       "    </tr>\n",
       "  </tbody>\n",
       "</table>\n",
       "<p>62313 rows × 10 columns</p>\n",
       "</div>"
      ],
      "text/plain": [
       "                                                     url      domain  \\\n",
       "0      https://medium.com/policy/medium-terms-of-serv...  medium.com   \n",
       "1      https://medium.com/policy/amendment-to-medium-...  medium.com   \n",
       "2      https://medium.com/@aelcenganda/%E9%96%A9%E6%9...  medium.com   \n",
       "3      https://medium.com/what-comes-to-mind/how-fast...  medium.com   \n",
       "4      https://medium.com/what-comes-to-mind/a-game-f...  medium.com   \n",
       "...                                                  ...         ...   \n",
       "62308  https://medium.com/@Politix_news/whenialmostdi...  medium.com   \n",
       "62309  https://medium.com/@Politix_news/twitter-troll...  medium.com   \n",
       "62310  https://medium.com/@Politix_news/space-and-can...  medium.com   \n",
       "62311  https://medium.com/swip/laser-focus-your-team-...  medium.com   \n",
       "62312  https://byrslf.co/i-wish-you-were-dead-658ed1c...   byrslf.co   \n",
       "\n",
       "                    published  \\\n",
       "0     2012-08-13 22:54:53.510   \n",
       "1     2015-08-03 07:44:50.331   \n",
       "2     2017-02-05 13:08:17.410   \n",
       "3     2017-05-06 08:16:30.776   \n",
       "4     2017-06-04 14:46:25.772   \n",
       "...                       ...   \n",
       "62308 2016-01-28 01:03:08.798   \n",
       "62309 2016-01-14 13:28:30.277   \n",
       "62310 2016-03-06 06:51:45.307   \n",
       "62311 2017-01-15 17:45:22.836   \n",
       "62312 2016-01-25 03:20:33.005   \n",
       "\n",
       "                                                   title  \\\n",
       "0       Medium Terms of Service – Medium Policy – Medium   \n",
       "1      Amendment to Medium Terms of Service Applicabl...   \n",
       "2      走入山與海之間：閩東大刀會和兩岸走私 – Yun-Chen Chien（簡韻真） – Medium   \n",
       "3      How fast can a camera get? – What comes to min...   \n",
       "4      A game for the lonely fox – What comes to mind...   \n",
       "...                                                  ...   \n",
       "62308            WhenIAlmostDied – Heather Nann – Medium   \n",
       "62309  Twitter Troll Trigger Alert – Heather Nann – M...   \n",
       "62310          Space and candles – Heather Nann – Medium   \n",
       "62311  Laser focus your team using Work-In-Progress l...   \n",
       "62312     “I WISH YOU WOULD KILL YOURSELF” – Be Yourself   \n",
       "\n",
       "                                                 content  \\\n",
       "0      <div><header class=\"container u-maxWidth740\"><...   \n",
       "1      <div><header class=\"container u-maxWidth740\"><...   \n",
       "2      <div><header class=\"container u-maxWidth740\"><...   \n",
       "3      <div><header class=\"container u-maxWidth740\"><...   \n",
       "4      <div><header class=\"container u-maxWidth740\"><...   \n",
       "...                                                  ...   \n",
       "62308  <div><header class=\"container u-maxWidth740\"><...   \n",
       "62309  <div><header class=\"container u-maxWidth740\"><...   \n",
       "62310  <div><header class=\"container u-maxWidth740\"><...   \n",
       "62311  <div><header class=\"container u-maxWidth740\"><...   \n",
       "62312  <div><header class=\"container u-maxWidth740\"><...   \n",
       "\n",
       "                                                  author  \\\n",
       "0      {'name': None, 'url': 'https://medium.com/@Med...   \n",
       "1      {'name': None, 'url': 'https://medium.com/@Med...   \n",
       "2      {'name': None, 'url': 'https://medium.com/@ael...   \n",
       "3      {'name': None, 'url': 'https://medium.com/@vai...   \n",
       "4      {'name': None, 'url': 'https://medium.com/@vai...   \n",
       "...                                                  ...   \n",
       "62308  {'name': None, 'url': 'https://medium.com/@Pol...   \n",
       "62309  {'name': None, 'url': 'https://medium.com/@Pol...   \n",
       "62310  {'name': None, 'url': 'https://medium.com/@Pol...   \n",
       "62311  {'name': None, 'url': 'https://medium.com/@nic...   \n",
       "62312  {'name': None, 'url': 'https://byrslf.co/@Poli...   \n",
       "\n",
       "                                               image_url tags  \\\n",
       "0                                                   None   []   \n",
       "1                                                   None   []   \n",
       "2      https://cdn-images-1.medium.com/max/1200/1*k9f...   []   \n",
       "3      https://cdn-images-1.medium.com/max/1200/1*6UZ...   []   \n",
       "4      https://cdn-images-1.medium.com/max/1200/1*liU...   []   \n",
       "...                                                  ...  ...   \n",
       "62308  https://cdn-images-1.medium.com/max/1200/1*bGg...   []   \n",
       "62309  https://cdn-images-1.medium.com/max/1200/1*90B...   []   \n",
       "62310  https://cdn-images-1.medium.com/focal/1200/632...   []   \n",
       "62311  https://cdn-images-1.medium.com/max/1200/1*hko...   []   \n",
       "62312  https://cdn-images-1.medium.com/max/1200/1*3GD...   []   \n",
       "\n",
       "                                               link_tags  \\\n",
       "0      {'canonical': 'https://medium.com/policy/mediu...   \n",
       "1      {'canonical': 'https://medium.com/policy/amend...   \n",
       "2      {'canonical': 'https://medium.com/@aelcenganda...   \n",
       "3      {'canonical': 'https://medium.com/what-comes-t...   \n",
       "4      {'canonical': 'https://medium.com/what-comes-t...   \n",
       "...                                                  ...   \n",
       "62308  {'canonical': 'https://medium.com/@Politix_new...   \n",
       "62309  {'canonical': 'https://medium.com/@Politix_new...   \n",
       "62310  {'canonical': 'https://medium.com/@Politix_new...   \n",
       "62311  {'canonical': 'https://medium.com/swip/laser-f...   \n",
       "62312  {'canonical': 'https://byrslf.co/i-wish-you-we...   \n",
       "\n",
       "                                               meta_tags  \n",
       "0      {'viewport': 'width=device-width, initial-scal...  \n",
       "1      {'viewport': 'width=device-width, initial-scal...  \n",
       "2      {'viewport': 'width=device-width, initial-scal...  \n",
       "3      {'viewport': 'width=device-width, initial-scal...  \n",
       "4      {'viewport': 'width=device-width, initial-scal...  \n",
       "...                                                  ...  \n",
       "62308  {'viewport': 'width=device-width, initial-scal...  \n",
       "62309  {'viewport': 'width=device-width, initial-scal...  \n",
       "62310  {'viewport': 'width=device-width, initial-scal...  \n",
       "62311  {'viewport': 'width=device-width, initial-scal...  \n",
       "62312  {'viewport': 'width=device-width, initial-scal...  \n",
       "\n",
       "[62313 rows x 10 columns]"
      ]
     },
     "execution_count": 105,
     "metadata": {},
     "output_type": "execute_result"
    }
   ],
   "source": [
    "X_train"
   ]
  },
  {
   "cell_type": "markdown",
   "metadata": {},
   "source": [
    "**Add the following groups of features:**\n",
    "    - Tf-Idf with article content (ngram_range=(1, 2), max_features=100000 but you can try adding more)\n",
    "    - Tf-Idf with article titles (ngram_range=(1, 2), max_features=100000 but you can try adding more)\n",
    "    - Time features: publication hour, whether it's morning, day, night, whether it's a weekend\n",
    "    - Bag of authors (i.e. One-Hot-Encoded author names)"
   ]
  },
  {
   "cell_type": "code",
   "execution_count": 19,
   "metadata": {},
   "outputs": [],
   "source": [
    "X_train_content_sparse = csr_matrix(np.empty([10, 100000]))  # change this\n",
    "X_train_title_sparse = csr_matrix(np.empty([10, 100000]))  # change this\n",
    "X_train_author_sparse = csr_matrix(np.empty([10, 100000]))  # change this\n",
    "X_train_time_features_sparse = csr_matrix(np.empty([10, 5]))  # change this\n",
    "\n",
    "X_test_content_sparse = csr_matrix(np.empty([5, 100000]))  # change this\n",
    "X_test_title_sparse = csr_matrix(np.empty([5, 100000]))  # change this\n",
    "X_test_author_sparse = csr_matrix(np.empty([5, 100000]))  # change this\n",
    "X_test_time_features_sparse = csr_matrix(np.empty([5, 5]))  # change this"
   ]
  },
  {
   "cell_type": "code",
   "execution_count": 8,
   "metadata": {},
   "outputs": [],
   "source": [
    "# You code here (read-only in a JupyterBook, pls run jupyter-notebook to edit)"
   ]
  },
  {
   "cell_type": "markdown",
   "metadata": {},
   "source": [
    "**Join all sparse matrices.**"
   ]
  },
  {
   "cell_type": "code",
   "execution_count": 9,
   "metadata": {},
   "outputs": [],
   "source": [
    "X_train_sparse = hstack(\n",
    "    [\n",
    "        X_train_content_sparse,\n",
    "        X_train_title_sparse,\n",
    "        X_train_author_sparse,\n",
    "        X_train_time_features_sparse,\n",
    "    ]\n",
    ").tocsr()"
   ]
  },
  {
   "cell_type": "code",
   "execution_count": 10,
   "metadata": {},
   "outputs": [],
   "source": [
    "X_test_sparse = hstack(\n",
    "    [\n",
    "        X_test_content_sparse,\n",
    "        X_test_title_sparse,\n",
    "        X_test_author_sparse,\n",
    "        X_test_time_features_sparse,\n",
    "    ]\n",
    ").tocsr()"
   ]
  },
  {
   "cell_type": "markdown",
   "metadata": {},
   "source": [
    "**Read train target and split data for validation.**"
   ]
  },
  {
   "cell_type": "code",
   "execution_count": 11,
   "metadata": {},
   "outputs": [],
   "source": [
    "train_target = pd.read_csv(\n",
    "    os.path.join(PATH_TO_DATA, \"train_log1p_recommends.csv\"), index_col=\"id\"\n",
    ")\n",
    "y_train = train_target[\"log_recommends\"].values"
   ]
  },
  {
   "cell_type": "code",
   "execution_count": 12,
   "metadata": {},
   "outputs": [],
   "source": [
    "train_part_size = int(0.7 * train_target.shape[0])\n",
    "X_train_part_sparse = X_train_sparse[:train_part_size, :]\n",
    "y_train_part = y_train[:train_part_size]\n",
    "X_valid_sparse = X_train_sparse[train_part_size:, :]\n",
    "y_valid = y_train[train_part_size:]"
   ]
  },
  {
   "cell_type": "markdown",
   "metadata": {},
   "source": [
    "**Train a simple Ridge model and check MAE on the validation set.**"
   ]
  },
  {
   "cell_type": "code",
   "execution_count": 13,
   "metadata": {},
   "outputs": [],
   "source": [
    "# You code here (read-only in a JupyterBook, pls run jupyter-notebook to edit)"
   ]
  },
  {
   "cell_type": "markdown",
   "metadata": {},
   "source": [
    "**Train the same Ridge with all available data, make predictions for the test set and form a submission file.**"
   ]
  },
  {
   "cell_type": "code",
   "execution_count": 14,
   "metadata": {},
   "outputs": [],
   "source": [
    "# You code here (read-only in a JupyterBook, pls run jupyter-notebook to edit)"
   ]
  },
  {
   "cell_type": "code",
   "execution_count": 15,
   "metadata": {},
   "outputs": [],
   "source": [
    "ridge_test_pred = np.empty([34645, 1])  # change this"
   ]
  },
  {
   "cell_type": "code",
   "execution_count": 16,
   "metadata": {},
   "outputs": [],
   "source": [
    "def write_submission_file(\n",
    "    prediction,\n",
    "    filename,\n",
    "    path_to_sample=os.path.join(PATH_TO_DATA, \"sample_submission.csv\"),\n",
    "):\n",
    "    submission = pd.read_csv(path_to_sample, index_col=\"id\")\n",
    "\n",
    "    submission[\"log_recommends\"] = prediction\n",
    "    submission.to_csv(filename)"
   ]
  },
  {
   "cell_type": "code",
   "execution_count": 17,
   "metadata": {},
   "outputs": [],
   "source": [
    "write_submission_file(\n",
    "    ridge_test_pred, os.path.join(PATH_TO_DATA, \"assignment6_medium_submission.csv\")\n",
    ")"
   ]
  },
  {
   "cell_type": "markdown",
   "metadata": {},
   "source": [
    "**Now's the time for dirty Kaggle hacks. Form a submission file with all zeros. Make a submission. What do you get if you think about it? How is it going to help you with modifying your predictions?**"
   ]
  },
  {
   "cell_type": "code",
   "execution_count": 18,
   "metadata": {},
   "outputs": [],
   "source": [
    "write_submission_file(\n",
    "    np.zeros_like(ridge_test_pred),\n",
    "    os.path.join(PATH_TO_DATA, \"medium_all_zeros_submission.csv\"),\n",
    ")"
   ]
  },
  {
   "cell_type": "markdown",
   "metadata": {},
   "source": [
    "**Modify predictions in an appropriate way (based on your all-zero submission) and make a new submission.**"
   ]
  },
  {
   "cell_type": "code",
   "execution_count": 19,
   "metadata": {},
   "outputs": [],
   "source": [
    "ridge_test_pred_modif = ridge_test_pred\n",
    "# You code here (read-only in a JupyterBook, pls run jupyter-notebook to edit)"
   ]
  },
  {
   "cell_type": "code",
   "execution_count": 20,
   "metadata": {},
   "outputs": [],
   "source": [
    "write_submission_file(\n",
    "    ridge_test_pred_modif,\n",
    "    os.path.join(PATH_TO_DATA, \"assignment6_medium_submission_with_hack.csv\"),\n",
    ")"
   ]
  },
  {
   "cell_type": "markdown",
   "metadata": {},
   "source": [
    "That's it for the assignment. In case you'd like to try some more ideas for improvement:\n",
    "\n",
    "- Engineer good features, this is the key to success. Some simple features will be based on publication time, authors, content length and so on\n",
    "- You may not ignore HTML and extract some features from there\n",
    "- You'd better experiment with your validation scheme. You should see a correlation between your local improvements and LB score\n",
    "- Try TF-IDF, ngrams, Word2Vec and GloVe embeddings\n",
    "- Try various NLP techniques like stemming and lemmatization\n",
    "- Tune hyperparameters. In our example, we've left only 50k features and used C=1 as a regularization parameter, this can be changed\n",
    "- SGD and Vowpal Wabbit will train much faster\n",
    "- Play around with blending and/or stacking. An intro is given in [this Kernel](https://www.kaggle.com/kashnitsky/ridge-and-lightgbm-simple-blending) by @yorko \n",
    "- And neural nets of course. We don't cover them in this course byt still transformer-based architectures will likely perform well in such types of tasks"
   ]
  }
 ],
 "metadata": {
  "kernelspec": {
   "display_name": "Python 3 (ipykernel)",
   "language": "python",
   "name": "python3"
  },
  "language_info": {
   "codemirror_mode": {
    "name": "ipython",
    "version": 3
   },
   "file_extension": ".py",
   "mimetype": "text/x-python",
   "name": "python",
   "nbconvert_exporter": "python",
   "pygments_lexer": "ipython3",
   "version": "3.12.4"
  }
 },
 "nbformat": 4,
 "nbformat_minor": 4
}
